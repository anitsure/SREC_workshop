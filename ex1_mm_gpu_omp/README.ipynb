{
 "cells": [
  {
   "cell_type": "markdown",
   "metadata": {},
   "source": [
    "# Example1"
   ]
  },
  {
   "cell_type": "markdown",
   "metadata": {},
   "source": [
    "This example demonstrate offloading CPU functionality on single GPU using OpenMP pragma. The notebook facilitate compilation, running, monitoring and profiling of example program.  \n",
    "\n",
    "###  Instructions\n",
    "\n",
    "- Step 1. Run CPU only single threaded code. Observe the performance (time to run the program).\n",
    "- Step 2. Create multi-threaded version using CPU specific OpenMP pragma. \n",
    " - Add CPU specific OpenMP pragma in under TODO \\__OPENMP_CPU\\__ <i>ifdef</i> in <span style=\"color:blue\"> mm.c </span>  file.\n",
    " - Compile \"make -f Makefile matmul_cpu\".\n",
    " - Experiment with OMP_NUM_THREADS environment variable and collapse, schedule, simd etc. clauses.\n",
    " - Run the code and observe the performance.\n",
    "- Step 3. Modify CPU multi-threaded version to offload functionality on single GPU.\n",
    " - Add GPU specific OpenMP pragma in under TODO \\__OPENMP_GPU\\__ <i>ifdef</i> in <span style=\"color:blue\"> mm.c </span> file.\n",
    " - Compile \"make -f Makefile.gpu\".\n",
    " - Experiment with teams, num_teams, thread_limit, distribute, collapse etc. clauses.\n",
    " - Run the code and observe the performance.\n",
    "- Step 4. Monitor GPU utilization.\n",
    "- Step 5. Profile code\n",
    " - Run profiling script under profile section.\n",
    "- Step 6. Download profile file (.nvvp) and visualize it in NVVP application.\n",
    "\n",
    "<b>Note:</b> \n",
    " - Modify Makefile to change matrix size. \n",
    " - [List](../omp_pragma_list.ipynb) of OpenMP pragma for reference."
   ]
  },
  {
   "cell_type": "markdown",
   "metadata": {},
   "source": [
    "## Edit source code"
   ]
  },
  {
   "cell_type": "markdown",
   "metadata": {},
   "source": [
    " Go to [source directory](.)\n",
    "  - file mm.c\n",
    "  - file Makefile"
   ]
  },
  {
   "cell_type": "markdown",
   "metadata": {},
   "source": [
    "## Compile"
   ]
  },
  {
   "cell_type": "code",
   "execution_count": null,
   "metadata": {},
   "outputs": [],
   "source": [
    "make -f Makefile"
   ]
  },
  {
   "cell_type": "markdown",
   "metadata": {},
   "source": [
    "## Run"
   ]
  },
  {
   "cell_type": "code",
   "execution_count": null,
   "metadata": {},
   "outputs": [],
   "source": [
    "./matmul"
   ]
  },
  {
   "cell_type": "markdown",
   "metadata": {},
   "source": [
    "## Monitor"
   ]
  },
  {
   "cell_type": "markdown",
   "metadata": {},
   "source": [
    " - [Monitor GPU utilization](../notebook_system_monitor/sample_gpu_monitor.ipynb)\n",
    " - [Monitor CPU utilization](../notebook_system_monitor/sample_cpu_monitor.ipynb)"
   ]
  },
  {
   "cell_type": "markdown",
   "metadata": {},
   "source": [
    "## Profile"
   ]
  },
  {
   "cell_type": "code",
   "execution_count": null,
   "metadata": {},
   "outputs": [],
   "source": [
    "./profile_ex1.sh"
   ]
  }
 ],
 "metadata": {
  "kernelspec": {
   "display_name": "Bash",
   "language": "bash",
   "name": "bash"
  },
  "language_info": {
   "codemirror_mode": "shell",
   "file_extension": ".sh",
   "mimetype": "text/x-sh",
   "name": "bash"
  }
 },
 "nbformat": 4,
 "nbformat_minor": 2
}
