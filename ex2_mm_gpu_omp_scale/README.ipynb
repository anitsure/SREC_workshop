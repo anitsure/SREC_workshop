{
 "cells": [
  {
   "cell_type": "markdown",
   "metadata": {},
   "source": [
    "# Example2"
   ]
  },
  {
   "cell_type": "markdown",
   "metadata": {},
   "source": [
    "This example demonstrate multi GPU scaling using OpenMP pragma. The notebook facilitate compilation, running, monitoring and profiling of example program.  \n",
    "\n",
    "###  Instructions\n",
    "\n",
    "- step 1. Add OpenMP device specific pragma to offload functionality on multiple GPUs. \n",
    " - Add GPU specific OpenMP pragma in under TODO in <span style=\"color:blue\"> mm.c </span> file.\n",
    " - Compile \"make -f Makefile\".\n",
    " - Experiment with teams, num_teams, thread_limit, distribute, collapse etc. clauses.\n",
    " - Run the code and observe the performance (time to run the program).\n",
    "- Step 2. Monitor GPU utilization.\n",
    "- Step 3. Profile code\n",
    " - Run profiling script under profile section.\n",
    "- Step 4. Download profile file (.nvvp) and visualize it in NVVP application.\n",
    "\n",
    "<b>Note:</b> \n",
    " - Modify Makefile to change matrix size.\n",
    " - [List](../omp_pragma_list.ipynb) of OpenMP pragma for reference."
   ]
  },
  {
   "cell_type": "markdown",
   "metadata": {},
   "source": [
    "## Edit source code"
   ]
  },
  {
   "cell_type": "markdown",
   "metadata": {},
   "source": [
    "  Go to [source directory](.)\n",
    "   - file mm.c\n",
    "   - file Makefile"
   ]
  },
  {
   "cell_type": "markdown",
   "metadata": {},
   "source": [
    "## Compile"
   ]
  },
  {
   "cell_type": "code",
   "execution_count": null,
   "metadata": {},
   "outputs": [],
   "source": [
    "make -f Makefile"
   ]
  },
  {
   "cell_type": "markdown",
   "metadata": {},
   "source": [
    "## Run"
   ]
  },
  {
   "cell_type": "code",
   "execution_count": null,
   "metadata": {},
   "outputs": [],
   "source": [
    "./matmul_multigpu"
   ]
  },
  {
   "cell_type": "markdown",
   "metadata": {},
   "source": [
    "## Monitor"
   ]
  },
  {
   "cell_type": "markdown",
   "metadata": {},
   "source": [
    " - [Monitor GPU utilization](../notebook_system_monitor/sample_gpu_monitor.ipynb)\n",
    " - [Monitor CPU utilization](../notebook_system_monitor/sample_cpu_monitor.ipynb)"
   ]
  },
  {
   "cell_type": "markdown",
   "metadata": {},
   "source": [
    "## Profile"
   ]
  },
  {
   "cell_type": "code",
   "execution_count": null,
   "metadata": {},
   "outputs": [],
   "source": [
    "./profile_ex2.sh"
   ]
  }
 ],
 "metadata": {
  "kernelspec": {
   "display_name": "Bash",
   "language": "bash",
   "name": "bash"
  },
  "language_info": {
   "codemirror_mode": "shell",
   "file_extension": ".sh",
   "mimetype": "text/x-sh",
   "name": "bash"
  }
 },
 "nbformat": 4,
 "nbformat_minor": 2
}
