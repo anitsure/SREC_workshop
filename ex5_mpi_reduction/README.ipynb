{
 "cells": [
  {
   "cell_type": "markdown",
   "metadata": {},
   "source": [
    "# Example5"
   ]
  },
  {
   "cell_type": "markdown",
   "metadata": {},
   "source": [
    "This example demonstrate usage of <i>MPI_Reduction</i> functionality. The notebook facilitate compilation, running and monitoring of example program.  \n",
    "\n",
    "###  Instructions\n",
    "\n",
    "- step 1. Add <i>MPI_Reduction(...)</i> function with appropriate reduction operation.  <span style=\"color:blue\">Check TODO in mpi_reduction.c file ! </span>\n",
    " - Compile code using <i>make</i> command.\n",
    " - Run the code and observe the performance.\n",
    "- Step 2. Monitor CPU utilization.\n",
    "\n",
    "<b>Note:</b> Modify Makefile to change matrix size."
   ]
  },
  {
   "cell_type": "markdown",
   "metadata": {},
   "source": [
    "## Edit source code"
   ]
  },
  {
   "cell_type": "markdown",
   "metadata": {},
   "source": [
    " - file [mpi_reduction.c](mpi_reduction.c)\n",
    " - file [Makefile](Makefile)\n",
    " \n",
    " Go to [source directory](.)"
   ]
  },
  {
   "cell_type": "markdown",
   "metadata": {},
   "source": [
    "## Compile"
   ]
  },
  {
   "cell_type": "code",
   "execution_count": null,
   "metadata": {},
   "outputs": [],
   "source": [
    "make"
   ]
  },
  {
   "cell_type": "markdown",
   "metadata": {},
   "source": [
    "## Run"
   ]
  },
  {
   "cell_type": "code",
   "execution_count": null,
   "metadata": {},
   "outputs": [],
   "source": [
    "./run_mpi_reduction.sh"
   ]
  },
  {
   "cell_type": "markdown",
   "metadata": {},
   "source": [
    "## Monitor"
   ]
  },
  {
   "cell_type": "markdown",
   "metadata": {},
   "source": [
    "- [monitor CPU utilization](../notebook_system_monitor/sample_cpu_monitor.ipynb)"
   ]
  },
  {
   "cell_type": "code",
   "execution_count": null,
   "metadata": {},
   "outputs": [],
   "source": []
  }
 ],
 "metadata": {
  "kernelspec": {
   "display_name": "Bash",
   "language": "bash",
   "name": "bash"
  },
  "language_info": {
   "codemirror_mode": "shell",
   "file_extension": ".sh",
   "mimetype": "text/x-sh",
   "name": "bash"
  }
 },
 "nbformat": 4,
 "nbformat_minor": 2
}
