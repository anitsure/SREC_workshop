{
 "cells": [
  {
   "cell_type": "markdown",
   "metadata": {},
   "source": [
    "# Example1"
   ]
  },
  {
   "cell_type": "markdown",
   "metadata": {},
   "source": [
    "This example demonstrate offloading CPU functionality on single GPU using OpenMP pragma. The notebook facilitate compilation, running, monitoring and profiling of example program.  \n",
    "\n",
    "###  Instructions\n",
    "\n",
    "- Step 1. Run CPU only single threaded code. Observe the performance (time to run the program).\n",
    "- Step 2. Create multi-threaded version using CPU specific OpenMP pragma. <span style=\"color:blue\">Check TODO in mm.c file ! </span>\n",
    " - Experiment with OMP_NUM_THREADS environment variable and collapse, schedule, simd etc. clauses.\n",
    " - Run the code and observe the performance.\n",
    "- step 3. Modify CPU multi-threaded version to offload functionality on single GPU. <span style=\"color:blue\">Check TODO in mm.c file ! </span>\n",
    " - Target code on specific GPU.\n",
    " - Map data (matrices) on GPU.\n",
    " - Experiment with teams, num_teams, thread_limit, distribute, collapse etc. clauses.\n",
    " - Run the code and observe the performance.\n",
    "- Step 4. Monitor GPU utilization.\n",
    "- Step 5. Profile code\n",
    " - Run profiling script under profile section.\n",
    "\n",
    "<b>Note:</b> Modify Makefile to change matrix size."
   ]
  },
  {
   "cell_type": "markdown",
   "metadata": {},
   "source": [
    "## Edit source code"
   ]
  },
  {
   "cell_type": "markdown",
   "metadata": {},
   "source": [
    " - file [mm.c](mm.c)\n",
    " - file [Makefile](Makefile)\n",
    " \n",
    " Go to [source directory](.)"
   ]
  },
  {
   "cell_type": "markdown",
   "metadata": {},
   "source": [
    "## Compile"
   ]
  },
  {
   "cell_type": "code",
   "execution_count": null,
   "metadata": {},
   "outputs": [],
   "source": [
    "make -f Makefile.gpu "
   ]
  },
  {
   "cell_type": "markdown",
   "metadata": {},
   "source": [
    "## Run"
   ]
  },
  {
   "cell_type": "code",
   "execution_count": null,
   "metadata": {},
   "outputs": [],
   "source": [
    "./matmul_gpuoffload"
   ]
  },
  {
   "cell_type": "markdown",
   "metadata": {},
   "source": [
    "## Monitor"
   ]
  },
  {
   "cell_type": "markdown",
   "metadata": {},
   "source": [
    " [monitor GPUs](../notebook_system_monitor/sample_gpu_monitor.ipynb)"
   ]
  },
  {
   "cell_type": "markdown",
   "metadata": {},
   "source": [
    "## Profile"
   ]
  },
  {
   "cell_type": "code",
   "execution_count": null,
   "metadata": {},
   "outputs": [],
   "source": []
  },
  {
   "cell_type": "code",
   "execution_count": null,
   "metadata": {},
   "outputs": [],
   "source": [
    "./profile_example1"
   ]
  }
 ],
 "metadata": {
  "kernelspec": {
   "display_name": "Bash",
   "language": "bash",
   "name": "bash"
  },
  "language_info": {
   "codemirror_mode": "shell",
   "file_extension": ".sh",
   "mimetype": "text/x-sh",
   "name": "bash"
  }
 },
 "nbformat": 4,
 "nbformat_minor": 2
}
