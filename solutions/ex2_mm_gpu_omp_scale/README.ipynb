{
 "cells": [
  {
   "cell_type": "markdown",
   "metadata": {},
   "source": [
    "# Example2"
   ]
  },
  {
   "cell_type": "markdown",
   "metadata": {},
   "source": [
    "This example demonstrate multi GPU scaling using OpenMP pragma. The notebook facilitate compilation, running, monitoring and profiling of example program.  \n",
    "\n",
    "###  Instructions\n",
    "\n",
    "- step 1. Add OpenMP device specific pragma to offload functionality on multiple GPUs. <span style=\"color:blue\">Check TODO in mm.c file ! </span>\n",
    " - Target code on GPUs.\n",
    " - Map data (matrices) on GPUs.\n",
    " - Experiment with teams, num_teams, thread_limit, distribute, collapse etc. clauses.\n",
    " - Run the code and observe the performance.\n",
    "- Step 2. Monitor GPU utilization.\n",
    "- Step 3. Profile code\n",
    " - Run profiling script under profile section.\n",
    "\n",
    "<b>Note:</b> Modify Makefile to change matrix size."
   ]
  },
  {
   "cell_type": "markdown",
   "metadata": {},
   "source": [
    "## Edit source code"
   ]
  },
  {
   "cell_type": "markdown",
   "metadata": {},
   "source": [
    " - file [mm.c](mm.c)\n",
    " - file [Makefile](Makefile)\n",
    " \n",
    "  Go to [source directory](.)"
   ]
  },
  {
   "cell_type": "markdown",
   "metadata": {},
   "source": [
    "## Compile"
   ]
  },
  {
   "cell_type": "code",
   "execution_count": null,
   "metadata": {},
   "outputs": [],
   "source": [
    "make"
   ]
  },
  {
   "cell_type": "markdown",
   "metadata": {},
   "source": [
    "## Run"
   ]
  },
  {
   "cell_type": "code",
   "execution_count": 2,
   "metadata": {},
   "outputs": [
    {
     "name": "stdout",
     "output_type": "stream",
     "text": [
      "Number of CPU Threads requested = 176\n",
      "init_arrays_matmul::array size: 100000000 \n",
      "First touch initialization 10000x10000 \n",
      "Inside mm_multiply_temp::startInd=75000000, num_elements=25000000, ng: 4, gpuid: 3 \n",
      "Inside mm_multiply_temp::startInd=0, num_elements=25000000, ng: 4, gpuid: 0 \n",
      "Inside mm_multiply_temp::startInd=25000000, num_elements=25000000, ng: 4, gpuid: 1 \n",
      "Inside mm_multiply_temp::startInd=50000000, num_elements=25000000, ng: 4, gpuid: 2 \n",
      "Elapsed time (sec) : 8.096842\n",
      "pC[0] : 120000.000000\n",
      "pC[(ROWSIZE*COLSIZE)-1] : 120000.000000\n"
     ]
    }
   ],
   "source": [
    "./matmul_multigpuoffload"
   ]
  },
  {
   "cell_type": "markdown",
   "metadata": {},
   "source": [
    "## Monitor"
   ]
  },
  {
   "cell_type": "markdown",
   "metadata": {},
   "source": [
    " [monitor GPUs](../notebook_system_monitor/sample_gpu_monitor.ipynb)"
   ]
  },
  {
   "cell_type": "markdown",
   "metadata": {},
   "source": [
    "## Profile"
   ]
  },
  {
   "cell_type": "code",
   "execution_count": null,
   "metadata": {},
   "outputs": [],
   "source": [
    "./profile_example2"
   ]
  }
 ],
 "metadata": {
  "kernelspec": {
   "display_name": "Bash",
   "language": "bash",
   "name": "bash"
  },
  "language_info": {
   "codemirror_mode": "shell",
   "file_extension": ".sh",
   "mimetype": "text/x-sh",
   "name": "bash"
  }
 },
 "nbformat": 4,
 "nbformat_minor": 2
}
