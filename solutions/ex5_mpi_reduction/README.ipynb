{
 "cells": [
  {
   "cell_type": "markdown",
   "metadata": {},
   "source": [
    "# Example5"
   ]
  },
  {
   "cell_type": "markdown",
   "metadata": {},
   "source": [
    "This example demonstrate usage of <i>MPI_Reduction</i> functionality. The notebook facilitate compilation, running and monitoring of example program.  \n",
    "\n",
    "###  Instructions\n",
    "\n",
    "- step 1. Add <i>MPI_Reduction(...)</i> function with appropriate reduction operation.  <span style=\"color:blue\">Check TODO in mpi_reduction.c file ! </span>\n",
    " - Compile code using <i>make</i> command.\n",
    " - Run the code and observe the performance.\n",
    "- Step 2. Monitor CPU utilization.\n",
    "\n",
    "<b>Note:</b> Modify Makefile to change matrix size."
   ]
  },
  {
   "cell_type": "markdown",
   "metadata": {},
   "source": [
    "## Edit source code"
   ]
  },
  {
   "cell_type": "markdown",
   "metadata": {},
   "source": [
    " - file [mpi_reduction.c](mpi_reduction.c)\n",
    " - file [Makefile](Makefile)\n",
    " \n",
    " Go to [source directory](.)"
   ]
  },
  {
   "cell_type": "markdown",
   "metadata": {},
   "source": [
    "## Compile"
   ]
  },
  {
   "cell_type": "code",
   "execution_count": 2,
   "metadata": {},
   "outputs": [
    {
     "name": "stdout",
     "output_type": "stream",
     "text": [
      "mpicc -o mpi_reduction mpi_reduction.c mm.c  -qsmp=omp -DROWSIZE=16 -DCOLSIZE=16\n",
      "mpi_reduction.c:\n",
      "mm.c:\n"
     ]
    }
   ],
   "source": [
    "make"
   ]
  },
  {
   "cell_type": "markdown",
   "metadata": {},
   "source": [
    "## Run"
   ]
  },
  {
   "cell_type": "code",
   "execution_count": 4,
   "metadata": {},
   "outputs": [
    {
     "name": "stdout",
     "output_type": "stream",
     "text": [
      "Running MPI MM on CPU\n",
      "[hpcwsw7:131231] MCW rank 1 bound to socket 1[core 22[hwt 0-3]], socket 1[core 23[hwt 0-3]], socket 1[core 24[hwt 0-3]], socket 1[core 25[hwt 0-3]], socket 1[core 26[hwt 0-3]], socket 1[core 27[hwt 0-3]], socket 1[core 28[hwt 0-3]], socket 1[core 29[hwt 0-3]], socket 1[core 30[hwt 0-3]], socket 1[core 31[hwt 0-3]], socket 1[core 32[hwt 0-3]], socket 1[core 33[hwt 0-3]], socket 1[core 34[hwt 0-3]], socket 1[core 35[hwt 0-3]], socket 1[core 36[hwt 0-3]], socket 1[core 37[hwt 0-3]], socket 1[core 38[hwt 0-3]], socket 1[core 39[hwt 0-3]], socket 1[core 40[hwt 0-3]], socket 1[core 41[hwt 0-3]], socket 1[core 42[hwt 0-3]], socket 1[core 43[hwt 0-3]]: [..../..../..../..../..../..../..../..../..../..../..../..../..../..../..../..../..../..../..../..../..../....][BBBB/BBBB/BBBB/BBBB/BBBB/BBBB/BBBB/BBBB/BBBB/BBBB/BBBB/BBBB/BBBB/BBBB/BBBB/BBBB/BBBB/BBBB/BBBB/BBBB/BBBB/BBBB]\n",
      "[hpcwsw7:131231] MCW rank 2 bound to socket 0[core 0[hwt 0-3]], socket 0[core 1[hwt 0-3]], socket 0[core 2[hwt 0-3]], socket 0[core 3[hwt 0-3]], socket 0[core 4[hwt 0-3]], socket 0[core 5[hwt 0-3]], socket 0[core 6[hwt 0-3]], socket 0[core 7[hwt 0-3]], socket 0[core 8[hwt 0-3]], socket 0[core 9[hwt 0-3]], socket 0[core 10[hwt 0-3]], socket 0[core 11[hwt 0-3]], socket 0[core 12[hwt 0-3]], socket 0[core 13[hwt 0-3]], socket 0[core 14[hwt 0-3]], socket 0[core 15[hwt 0-3]], socket 0[core 16[hwt 0-3]], socket 0[core 17[hwt 0-3]], socket 0[core 18[hwt 0-3]], socket 0[core 19[hwt 0-3]], socket 0[core 20[hwt 0-3]], socket 0[core 21[hwt 0-3]]: [BBBB/BBBB/BBBB/BBBB/BBBB/BBBB/BBBB/BBBB/BBBB/BBBB/BBBB/BBBB/BBBB/BBBB/BBBB/BBBB/BBBB/BBBB/BBBB/BBBB/BBBB/BBBB][..../..../..../..../..../..../..../..../..../..../..../..../..../..../..../..../..../..../..../..../..../....]\n",
      "[hpcwsw7:131231] MCW rank 3 bound to socket 1[core 22[hwt 0-3]], socket 1[core 23[hwt 0-3]], socket 1[core 24[hwt 0-3]], socket 1[core 25[hwt 0-3]], socket 1[core 26[hwt 0-3]], socket 1[core 27[hwt 0-3]], socket 1[core 28[hwt 0-3]], socket 1[core 29[hwt 0-3]], socket 1[core 30[hwt 0-3]], socket 1[core 31[hwt 0-3]], socket 1[core 32[hwt 0-3]], socket 1[core 33[hwt 0-3]], socket 1[core 34[hwt 0-3]], socket 1[core 35[hwt 0-3]], socket 1[core 36[hwt 0-3]], socket 1[core 37[hwt 0-3]], socket 1[core 38[hwt 0-3]], socket 1[core 39[hwt 0-3]], socket 1[core 40[hwt 0-3]], socket 1[core 41[hwt 0-3]], socket 1[core 42[hwt 0-3]], socket 1[core 43[hwt 0-3]]: [..../..../..../..../..../..../..../..../..../..../..../..../..../..../..../..../..../..../..../..../..../....][BBBB/BBBB/BBBB/BBBB/BBBB/BBBB/BBBB/BBBB/BBBB/BBBB/BBBB/BBBB/BBBB/BBBB/BBBB/BBBB/BBBB/BBBB/BBBB/BBBB/BBBB/BBBB]\n",
      "[hpcwsw7:131231] MCW rank 0 bound to socket 0[core 0[hwt 0-3]], socket 0[core 1[hwt 0-3]], socket 0[core 2[hwt 0-3]], socket 0[core 3[hwt 0-3]], socket 0[core 4[hwt 0-3]], socket 0[core 5[hwt 0-3]], socket 0[core 6[hwt 0-3]], socket 0[core 7[hwt 0-3]], socket 0[core 8[hwt 0-3]], socket 0[core 9[hwt 0-3]], socket 0[core 10[hwt 0-3]], socket 0[core 11[hwt 0-3]], socket 0[core 12[hwt 0-3]], socket 0[core 13[hwt 0-3]], socket 0[core 14[hwt 0-3]], socket 0[core 15[hwt 0-3]], socket 0[core 16[hwt 0-3]], socket 0[core 17[hwt 0-3]], socket 0[core 18[hwt 0-3]], socket 0[core 19[hwt 0-3]], socket 0[core 20[hwt 0-3]], socket 0[core 21[hwt 0-3]]: [BBBB/BBBB/BBBB/BBBB/BBBB/BBBB/BBBB/BBBB/BBBB/BBBB/BBBB/BBBB/BBBB/BBBB/BBBB/BBBB/BBBB/BBBB/BBBB/BBBB/BBBB/BBBB][..../..../..../..../..../..../..../..../..../..../..../..../..../..../..../..../..../..../..../..../..../....]\n",
      " number of processes : 4 \n",
      " init_arrays_matmul::array size: 256 \n",
      " number of processes : 4 \n",
      " init_arrays_matmul::array size: 256 \n",
      " number of processes : 4 \n",
      " init_arrays_matmul::array size: 256 \n",
      " number of processes : 4 \n",
      " init_arrays_matmul::array size: 256 \n",
      "  msize/np : 4 \n",
      "  msize/np : 4 \n",
      "  msize/np : 4 \n",
      "  msize/np : 4 \n",
      " local_sum from rank 0 : 128.000000\n",
      "Global sum from rank 0: 512.000000\n",
      " ********** process 0 : time = 0.000165 \n",
      " local_sum from rank 1 : 128.000000\n",
      "Global sum from rank 1: 512.000000\n",
      " ********** process 1 : time = 0.000171 \n",
      " local_sum from rank 3 : 128.000000\n",
      "Global sum from rank 3: 512.000000\n",
      " ********** process 3 : time = 0.000158 \n",
      " local_sum from rank 2 : 128.000000\n",
      "Global sum from rank 2: 512.000000\n",
      " ********** process 2 : time = 0.000151 \n"
     ]
    }
   ],
   "source": [
    "./run_mpi_reduction.sh"
   ]
  },
  {
   "cell_type": "markdown",
   "metadata": {},
   "source": [
    "## Monitor"
   ]
  },
  {
   "cell_type": "markdown",
   "metadata": {},
   "source": [
    "- [monitor CPU utilization](../notebook_system_monitor/sample_cpu_monitor.ipynb)"
   ]
  },
  {
   "cell_type": "code",
   "execution_count": null,
   "metadata": {},
   "outputs": [],
   "source": []
  }
 ],
 "metadata": {
  "kernelspec": {
   "display_name": "Bash",
   "language": "bash",
   "name": "bash"
  },
  "language_info": {
   "codemirror_mode": "shell",
   "file_extension": ".sh",
   "mimetype": "text/x-sh",
   "name": "bash"
  }
 },
 "nbformat": 4,
 "nbformat_minor": 2
}
