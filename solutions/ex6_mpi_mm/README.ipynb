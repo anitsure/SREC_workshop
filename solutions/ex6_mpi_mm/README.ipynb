{
 "cells": [
  {
   "cell_type": "markdown",
   "metadata": {},
   "source": [
    "# Example6"
   ]
  },
  {
   "cell_type": "markdown",
   "metadata": {},
   "source": [
    "This matrix multiplication example implemented using MPI. The example demonstrate ussage of MPI collective calls, domain decomposition and scalability. The notebook facilitate compilation, running and monitoring of example program.  \n",
    "\n",
    "###  Instructions\n",
    "\n",
    "- step 1. Use (add) MPI collective functions calls to distributing work across tasks (domain decomposition). <span style=\"color:blue\">Check TODO in mpi_mm.c file ! </span>\n",
    " - Compile code using <i>make</i> command.\n",
    " - Run the code and observe the performance.\n",
    "- Step 2. Monitor CPU utilization.\n",
    "\n",
    "<b>Note:</b> Modify Makefile to change matrix size."
   ]
  },
  {
   "cell_type": "markdown",
   "metadata": {},
   "source": [
    "## Edit source code"
   ]
  },
  {
   "cell_type": "markdown",
   "metadata": {},
   "source": [
    " - file [mpi_mm.c](mpi_mm.c)\n",
    " - file [Makefile](Makefile)\n",
    " \n",
    " Go to [source directory](.)"
   ]
  },
  {
   "cell_type": "markdown",
   "metadata": {},
   "source": [
    "## Compile"
   ]
  },
  {
   "cell_type": "code",
   "execution_count": null,
   "metadata": {},
   "outputs": [],
   "source": [
    "make"
   ]
  },
  {
   "cell_type": "markdown",
   "metadata": {},
   "source": [
    "## Run"
   ]
  },
  {
   "cell_type": "code",
   "execution_count": 3,
   "metadata": {},
   "outputs": [
    {
     "name": "stdout",
     "output_type": "stream",
     "text": [
      "Running MPI MM on CPU\n",
      "[hpcwsw7:129814] MCW rank 1 bound to socket 1[core 22[hwt 0-3]], socket 1[core 23[hwt 0-3]], socket 1[core 24[hwt 0-3]], socket 1[core 25[hwt 0-3]], socket 1[core 26[hwt 0-3]], socket 1[core 27[hwt 0-3]], socket 1[core 28[hwt 0-3]], socket 1[core 29[hwt 0-3]], socket 1[core 30[hwt 0-3]], socket 1[core 31[hwt 0-3]], socket 1[core 32[hwt 0-3]], socket 1[core 33[hwt 0-3]], socket 1[core 34[hwt 0-3]], socket 1[core 35[hwt 0-3]], socket 1[core 36[hwt 0-3]], socket 1[core 37[hwt 0-3]], socket 1[core 38[hwt 0-3]], socket 1[core 39[hwt 0-3]], socket 1[core 40[hwt 0-3]], socket 1[core 41[hwt 0-3]], socket 1[core 42[hwt 0-3]], socket 1[core 43[hwt 0-3]]: [..../..../..../..../..../..../..../..../..../..../..../..../..../..../..../..../..../..../..../..../..../....][BBBB/BBBB/BBBB/BBBB/BBBB/BBBB/BBBB/BBBB/BBBB/BBBB/BBBB/BBBB/BBBB/BBBB/BBBB/BBBB/BBBB/BBBB/BBBB/BBBB/BBBB/BBBB]\n",
      "[hpcwsw7:129814] MCW rank 2 bound to socket 0[core 0[hwt 0-3]], socket 0[core 1[hwt 0-3]], socket 0[core 2[hwt 0-3]], socket 0[core 3[hwt 0-3]], socket 0[core 4[hwt 0-3]], socket 0[core 5[hwt 0-3]], socket 0[core 6[hwt 0-3]], socket 0[core 7[hwt 0-3]], socket 0[core 8[hwt 0-3]], socket 0[core 9[hwt 0-3]], socket 0[core 10[hwt 0-3]], socket 0[core 11[hwt 0-3]], socket 0[core 12[hwt 0-3]], socket 0[core 13[hwt 0-3]], socket 0[core 14[hwt 0-3]], socket 0[core 15[hwt 0-3]], socket 0[core 16[hwt 0-3]], socket 0[core 17[hwt 0-3]], socket 0[core 18[hwt 0-3]], socket 0[core 19[hwt 0-3]], socket 0[core 20[hwt 0-3]], socket 0[core 21[hwt 0-3]]: [BBBB/BBBB/BBBB/BBBB/BBBB/BBBB/BBBB/BBBB/BBBB/BBBB/BBBB/BBBB/BBBB/BBBB/BBBB/BBBB/BBBB/BBBB/BBBB/BBBB/BBBB/BBBB][..../..../..../..../..../..../..../..../..../..../..../..../..../..../..../..../..../..../..../..../..../....]\n",
      "[hpcwsw7:129814] MCW rank 3 bound to socket 1[core 22[hwt 0-3]], socket 1[core 23[hwt 0-3]], socket 1[core 24[hwt 0-3]], socket 1[core 25[hwt 0-3]], socket 1[core 26[hwt 0-3]], socket 1[core 27[hwt 0-3]], socket 1[core 28[hwt 0-3]], socket 1[core 29[hwt 0-3]], socket 1[core 30[hwt 0-3]], socket 1[core 31[hwt 0-3]], socket 1[core 32[hwt 0-3]], socket 1[core 33[hwt 0-3]], socket 1[core 34[hwt 0-3]], socket 1[core 35[hwt 0-3]], socket 1[core 36[hwt 0-3]], socket 1[core 37[hwt 0-3]], socket 1[core 38[hwt 0-3]], socket 1[core 39[hwt 0-3]], socket 1[core 40[hwt 0-3]], socket 1[core 41[hwt 0-3]], socket 1[core 42[hwt 0-3]], socket 1[core 43[hwt 0-3]]: [..../..../..../..../..../..../..../..../..../..../..../..../..../..../..../..../..../..../..../..../..../....][BBBB/BBBB/BBBB/BBBB/BBBB/BBBB/BBBB/BBBB/BBBB/BBBB/BBBB/BBBB/BBBB/BBBB/BBBB/BBBB/BBBB/BBBB/BBBB/BBBB/BBBB/BBBB]\n",
      "[hpcwsw7:129814] MCW rank 0 bound to socket 0[core 0[hwt 0-3]], socket 0[core 1[hwt 0-3]], socket 0[core 2[hwt 0-3]], socket 0[core 3[hwt 0-3]], socket 0[core 4[hwt 0-3]], socket 0[core 5[hwt 0-3]], socket 0[core 6[hwt 0-3]], socket 0[core 7[hwt 0-3]], socket 0[core 8[hwt 0-3]], socket 0[core 9[hwt 0-3]], socket 0[core 10[hwt 0-3]], socket 0[core 11[hwt 0-3]], socket 0[core 12[hwt 0-3]], socket 0[core 13[hwt 0-3]], socket 0[core 14[hwt 0-3]], socket 0[core 15[hwt 0-3]], socket 0[core 16[hwt 0-3]], socket 0[core 17[hwt 0-3]], socket 0[core 18[hwt 0-3]], socket 0[core 19[hwt 0-3]], socket 0[core 20[hwt 0-3]], socket 0[core 21[hwt 0-3]]: [BBBB/BBBB/BBBB/BBBB/BBBB/BBBB/BBBB/BBBB/BBBB/BBBB/BBBB/BBBB/BBBB/BBBB/BBBB/BBBB/BBBB/BBBB/BBBB/BBBB/BBBB/BBBB][..../..../..../..../..../..../..../..../..../..../..../..../..../..../..../..../..../..../..../..../..../....]\n",
      " number of processes : 4 \n",
      " init_arrays_matmul::array size: 256 \n",
      " process 3 create rec buffer \n",
      " number of processes : 4 \n",
      " init_arrays_matmul::array size: 256 \n",
      " process 1 create rec buffer \n",
      " number of processes : 4 \n",
      " init_arrays_matmul::array size: 256 \n",
      " number of processes : 4 \n",
      " init_arrays_matmul::array size: 256 \n",
      " process 2 create rec buffer \n",
      " process 0 create rec buffer \n",
      "   msize/np : 4 \n",
      "   msize/np : 4 \n",
      "   msize/np : 4 \n",
      "   msize/np : 4 \n",
      " Inside MPI matrix_multiplication 4x16 : 2 \n",
      " Inside MPI matrix_multiplication 4x16 : 0 \n",
      " Inside MPI matrix_multiplication 4x16 : 3 \n",
      " Inside MPI matrix_multiplication 4x16 : 1 \n",
      " ********** process 1 : time = 1.359870 \n",
      " ********** process 0 : time = 1.359900 \n",
      "pC[0] : 192.000000\n",
      "pC[(ROWSIZE*COLSIZE)-1] : 192.000000\n",
      " ********** process 2 : time = 1.359969 \n",
      " ********** process 3 : time = 1.359997 \n"
     ]
    }
   ],
   "source": [
    "./run_mpi_mm.sh"
   ]
  },
  {
   "cell_type": "markdown",
   "metadata": {},
   "source": [
    "## Monitor"
   ]
  },
  {
   "cell_type": "markdown",
   "metadata": {},
   "source": [
    "- [monitor CPU utilization](../notebook_system_monitor/sample_cpu_monitor.ipynb)"
   ]
  },
  {
   "cell_type": "code",
   "execution_count": null,
   "metadata": {},
   "outputs": [],
   "source": []
  }
 ],
 "metadata": {
  "kernelspec": {
   "display_name": "Bash",
   "language": "bash",
   "name": "bash"
  },
  "language_info": {
   "codemirror_mode": "shell",
   "file_extension": ".sh",
   "mimetype": "text/x-sh",
   "name": "bash"
  }
 },
 "nbformat": 4,
 "nbformat_minor": 2
}
